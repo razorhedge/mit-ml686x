{
 "cells": [
  {
   "cell_type": "code",
   "execution_count": 1,
   "metadata": {},
   "outputs": [],
   "source": [
    "import numpy as np"
   ]
  },
  {
   "cell_type": "code",
   "execution_count": 4,
   "metadata": {},
   "outputs": [],
   "source": [
    "X = np.array([[0.18742541, 0.06520247, 0.98439411],\n",
    " [0.4984736,  0.12400016, 0.83042837],\n",
    " [0.61840007, 0.32722001, 0.16825149],\n",
    " [0.75843775, 0.240315,  0.80616379],\n",
    " [0.64928731, 0.63163337, 0.88241677],\n",
    " [0.67731144, 0.54827533, 0.87660105],\n",
    " [0.33668904, 0.90384767, 0.32289759],\n",
    " [0.90566489, 0.48675356, 0.27197758],\n",
    " [0.41574894, 0.20387946, 0.37146465],\n",
    " [0.4933846,  0.14820267, 0.24566157],\n",
    " [0.7534329,  0.79133382, 0.42471061],\n",
    " [0.83187898, 0.08386401, 0.33143563]])\n",
    "Y = np.array([0.19743788, 0.31502987, 0.83253842, 0.03081501, 0.15413514, 0.56918926,\n",
    " 0.78294677, 0.12461562, 0.03441255, 0.33254997, 0.65476189, 0.11105334])\n",
    "lambda_factor= 0.38067354850738033"
   ]
  },
  {
   "cell_type": "code",
   "execution_count": 10,
   "metadata": {},
   "outputs": [],
   "source": [
    "def closed_form(X, Y, lambda_factor):\n",
    "    \"\"\"\n",
    "    Computes the closed form solution of linear regression with L2 regularization\n",
    "\n",
    "    Args:\n",
    "        X - (n, d + 1) NumPy array (n datapoints each with d features plus the bias feature in the first dimension)\n",
    "        Y - (n, ) NumPy array containing the labels (a number from 0-9) for each\n",
    "            data point\n",
    "        lambda_factor - the regularization constant (scalar)\n",
    "    Returns:\n",
    "        theta - (d + 1, ) NumPy array containing the weights of linear regression. Note that theta[0]\n",
    "        represents the y-axis intercept of the model and therefore X[0] = 1\n",
    "    \"\"\"\n",
    "    A = (np.dot(X.transpose(), X)) \n",
    "    reg = lambda_factor*np.identity(len(A))\n",
    "    A_inv = np.linalg.inv(A+reg)\n",
    "    b = np.dot(X.transpose(), Y)\n",
    "    result = np.dot(A_inv, b)\n",
    "    return result\n",
    "    raise NotImplementedError\n"
   ]
  },
  {
   "cell_type": "code",
   "execution_count": 11,
   "metadata": {},
   "outputs": [
    {
     "data": {
      "text/plain": [
       "array([0.14415837, 0.53481906, 0.03213344])"
      ]
     },
     "execution_count": 11,
     "metadata": {},
     "output_type": "execute_result"
    }
   ],
   "source": [
    "closed_form(X,Y,lambda_factor)"
   ]
  },
  {
   "cell_type": "code",
   "execution_count": null,
   "metadata": {},
   "outputs": [],
   "source": []
  }
 ],
 "metadata": {
  "interpreter": {
   "hash": "b3ba2566441a7c06988d0923437866b63cedc61552a5af99d1f4fb67d367b25f"
  },
  "kernelspec": {
   "display_name": "Python 3.7.3 64-bit",
   "name": "python3"
  },
  "language_info": {
   "codemirror_mode": {
    "name": "ipython",
    "version": 3
   },
   "file_extension": ".py",
   "mimetype": "text/x-python",
   "name": "python",
   "nbconvert_exporter": "python",
   "pygments_lexer": "ipython3",
   "version": "3.7.3"
  },
  "orig_nbformat": 4
 },
 "nbformat": 4,
 "nbformat_minor": 2
}
