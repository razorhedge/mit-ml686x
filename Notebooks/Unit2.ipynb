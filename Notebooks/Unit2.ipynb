{
 "cells": [
  {
   "cell_type": "code",
   "execution_count": 1,
   "source": [
    "import numpy as np"
   ],
   "outputs": [],
   "metadata": {}
  },
  {
   "cell_type": "code",
   "execution_count": 63,
   "source": [
    "def hinge_loss_single(feature_vector, label, theta, theta_0):\r\n",
    "    \"\"\"\r\n",
    "    Finds the hinge loss on a single data point given specific classification\r\n",
    "    parameters.\r\n",
    "\r\n",
    "    Args:\r\n",
    "        feature_vector - A numpy array describing the given data point.\r\n",
    "        label - A real valued number, the correct classification of the data\r\n",
    "            point.\r\n",
    "        theta - A numpy array describing the linear classifier.\r\n",
    "        theta_0 - A real valued number representing the offset parameter.\r\n",
    "\r\n",
    "\r\n",
    "    Returns: A real number representing the hinge loss associated with the\r\n",
    "    given data point and parameters.\r\n",
    "    \"\"\"\r\n",
    "    # Your code here\r\n",
    "    z = label-(np.dot(theta.transpose(), feature_vector) + theta_0)\r\n",
    "    hinge = np.max([0, 1-z])\r\n",
    "    return hinge\r\n",
    "    raise NotImplementedError\r\n",
    "\r\n",
    "def squared_loss_single(feature_vector, label, theta, theta_0):\r\n",
    "    \"\"\"\r\n",
    "    Finds the hinge loss on a single data point given specific classification\r\n",
    "    parameters.\r\n",
    "\r\n",
    "    Args:\r\n",
    "        feature_vector - A numpy array describing the given data point.\r\n",
    "        label - A real valued number, the correct classification of the data\r\n",
    "            point.\r\n",
    "        theta - A numpy array describing the linear classifier.\r\n",
    "        theta_0 - A real valued number representing the offset parameter.\r\n",
    "\r\n",
    "\r\n",
    "    Returns: A real number representing the hinge loss associated with the\r\n",
    "    given data point and parameters.\r\n",
    "    \"\"\"\r\n",
    "    # Your code here\r\n",
    "    z = label-(np.dot(theta.transpose(), feature_vector) + theta_0)\r\n",
    "    mse = z**2/2\r\n",
    "    return mse\r\n",
    "    raise NotImplementedError\r\n",
    "\r\n",
    "\r\n",
    "def hinge_loss_full(feature_matrix, labels, theta, theta_0):\r\n",
    "    \"\"\"\r\n",
    "    Finds the total hinge loss on a set of data given specific classification\r\n",
    "    parameters.\r\n",
    "\r\n",
    "    Args:\r\n",
    "        feature_matrix - A numpy matrix describing the given data. Each row\r\n",
    "            represents a single data point.\r\n",
    "        labels - A numpy array where the kth element of the array is the\r\n",
    "            correct classification of the kth row of the feature matrix.\r\n",
    "        theta - A numpy array describing the linear classifier.\r\n",
    "        theta_0 - A real valued number representing the offset parameter.\r\n",
    "\r\n",
    "\r\n",
    "    Returns: A real number representing the hinge loss associated with the\r\n",
    "    given dataset and parameters. This number should be the average hinge\r\n",
    "    loss across all of the points in the feature matrix.\r\n",
    "    \"\"\"\r\n",
    "    # Your code here\r\n",
    "    out = np.array([hinge_loss_single(x, y, theta, theta_0) for x,y in zip(feature_matrix, labels)])\r\n",
    "    loss = out.mean()\r\n",
    "    return out, loss\r\n",
    "    raise NotImplementedError\r\n",
    "\r\n",
    "\r\n",
    "def squared_loss_full(feature_matrix, labels, theta, theta_0):\r\n",
    "    \"\"\"\r\n",
    "    Finds the total hinge loss on a set of data given specific classification\r\n",
    "    parameters.\r\n",
    "\r\n",
    "    Args:\r\n",
    "        feature_matrix - A numpy matrix describing the given data. Each row\r\n",
    "            represents a single data point.\r\n",
    "        labels - A numpy array where the kth element of the array is the\r\n",
    "            correct classification of the kth row of the feature matrix.\r\n",
    "        theta - A numpy array describing the linear classifier.\r\n",
    "        theta_0 - A real valued number representing the offset parameter.\r\n",
    "\r\n",
    "\r\n",
    "    Returns: A real number representing the hinge loss associated with the\r\n",
    "    given dataset and parameters. This number should be the average hinge\r\n",
    "    loss across all of the points in the feature matrix.\r\n",
    "    \"\"\"\r\n",
    "    # Your code here\r\n",
    "    out = np.array([squared_loss_single(x, y, theta, theta_0) for x,y in zip(feature_matrix, labels)])\r\n",
    "    loss = out.mean()\r\n",
    "    return out, loss\r\n",
    "    raise NotImplementedError\r\n",
    "\r\n"
   ],
   "outputs": [],
   "metadata": {}
  },
  {
   "cell_type": "code",
   "execution_count": 58,
   "source": [
    "Xs = np.array([[1,0,1],[1,1,1],[1,1,-1],[-1,1,1]])\r\n",
    "Ys = np.array([2,2.7,-0.7,2])\r\n",
    "theta = np.array([0,1,2])\r\n",
    "theta_0 = 0"
   ],
   "outputs": [],
   "metadata": {}
  },
  {
   "cell_type": "code",
   "execution_count": 62,
   "source": [
    "[squared_loss_single(x, y, theta, theta_0) for x,y in zip(Xs, Ys)]"
   ],
   "outputs": [
    {
     "output_type": "execute_result",
     "data": {
      "text/plain": [
       "[0.0, 0.04499999999999995, 0.04500000000000001, 0.5]"
      ]
     },
     "metadata": {},
     "execution_count": 62
    }
   ],
   "metadata": {}
  },
  {
   "cell_type": "code",
   "execution_count": 64,
   "source": [
    "squared_loss_full(Xs, Ys, theta, theta_0)"
   ],
   "outputs": [
    {
     "output_type": "execute_result",
     "data": {
      "text/plain": [
       "(array([0.   , 0.045, 0.045, 0.5  ]), 0.1475)"
      ]
     },
     "metadata": {},
     "execution_count": 64
    }
   ],
   "metadata": {}
  },
  {
   "cell_type": "code",
   "execution_count": 65,
   "source": [
    "[hinge_loss_single(x, y, theta, theta_0) for x,y in zip(Xs, Ys)]"
   ],
   "outputs": [
    {
     "output_type": "execute_result",
     "data": {
      "text/plain": [
       "[1.0, 1.2999999999999998, 0.7, 2.0]"
      ]
     },
     "metadata": {},
     "execution_count": 65
    }
   ],
   "metadata": {}
  },
  {
   "cell_type": "code",
   "execution_count": 66,
   "source": [
    "hinge_loss_full(Xs, Ys, theta, theta_0)"
   ],
   "outputs": [
    {
     "output_type": "execute_result",
     "data": {
      "text/plain": [
       "(array([1. , 1.3, 0.7, 2. ]), 1.25)"
      ]
     },
     "metadata": {},
     "execution_count": 66
    }
   ],
   "metadata": {}
  }
 ],
 "metadata": {
  "orig_nbformat": 4,
  "language_info": {
   "name": "python",
   "version": "3.7.3",
   "mimetype": "text/x-python",
   "codemirror_mode": {
    "name": "ipython",
    "version": 3
   },
   "pygments_lexer": "ipython3",
   "nbconvert_exporter": "python",
   "file_extension": ".py"
  },
  "kernelspec": {
   "name": "python3",
   "display_name": "Python 3.7.3 64-bit"
  },
  "interpreter": {
   "hash": "b3ba2566441a7c06988d0923437866b63cedc61552a5af99d1f4fb67d367b25f"
  }
 },
 "nbformat": 4,
 "nbformat_minor": 2
}