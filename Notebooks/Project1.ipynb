{
 "cells": [
  {
   "cell_type": "code",
   "execution_count": 1,
   "source": [
    "import numpy as np"
   ],
   "outputs": [],
   "metadata": {}
  },
  {
   "cell_type": "code",
   "execution_count": 63,
   "source": [
    "def hinge_loss_single(feature_vector, label, theta, theta_0):\r\n",
    "    \"\"\"\r\n",
    "    Finds the hinge loss on a single data point given specific classification\r\n",
    "    parameters.\r\n",
    "\r\n",
    "    Args:\r\n",
    "        feature_vector - A numpy array describing the given data point.\r\n",
    "        label - A real valued number, the correct classification of the data\r\n",
    "            point.\r\n",
    "        theta - A numpy array describing the linear classifier.\r\n",
    "        theta_0 - A real valued number representing the offset parameter.\r\n",
    "\r\n",
    "\r\n",
    "    Returns: A real number representing the hinge loss associated with the\r\n",
    "    given data point and parameters.\r\n",
    "    \"\"\"\r\n",
    "    # Your code here\r\n",
    "    z = label*(np.matmul(theta, feature_vector) + theta_0)\r\n",
    "    hinge = np.max([0, 1-z])\r\n",
    "    return hinge\r\n",
    "    raise NotImplementedError"
   ],
   "outputs": [],
   "metadata": {}
  },
  {
   "cell_type": "code",
   "execution_count": 64,
   "source": [
    "fv= np.array([0.55500015, 0.22262817, 0.46742575, 0.07716229, 0.48056357, 0.73576736,\r\n",
    " 0.72758698, 0.29723448, 0.05111963, 0.92799158])\r\n",
    "label= -1.0\r\n",
    "theta= np.array([0.09009007, 0.22458973, 0.10696886, 0.64798494, 0.10404451, 0.06795626,\r\n",
    " 0.06872031, 0.16821736, 0.97809792, 0.0538798])\r\n",
    "theta_0= 0.5"
   ],
   "outputs": [],
   "metadata": {}
  },
  {
   "cell_type": "code",
   "execution_count": 65,
   "source": [
    "hinge_loss_single(fv,label,theta,theta_0)"
   ],
   "outputs": [
    {
     "output_type": "execute_result",
     "data": {
      "text/plain": [
       "2"
      ]
     },
     "metadata": {},
     "execution_count": 65
    }
   ],
   "metadata": {}
  },
  {
   "cell_type": "code",
   "execution_count": 105,
   "source": [
    "def hinge_loss_full(feature_matrix, labels, theta, theta_0):\r\n",
    "    \"\"\"\r\n",
    "    Finds the total hinge loss on a set of data given specific classification\r\n",
    "    parameters.\r\n",
    "\r\n",
    "    Args:\r\n",
    "        feature_matrix - A numpy matrix describing the given data. Each row\r\n",
    "            represents a single data point.\r\n",
    "        labels - A numpy array where the kth element of the array is the\r\n",
    "            correct classification of the kth row of the feature matrix.\r\n",
    "        theta - A numpy array describing the linear classifier.\r\n",
    "        theta_0 - A real valued number representing the offset parameter.\r\n",
    "\r\n",
    "\r\n",
    "    Returns: A real number representing the hinge loss associated with the\r\n",
    "    given dataset and parameters. This number should be the average hinge\r\n",
    "    loss across all of the points in the feature matrix.\r\n",
    "    \"\"\"\r\n",
    "    # Your code here\r\n",
    "    out = np.array([hinge_loss_single(x, y, theta, theta_0) for x,y in zip(feature_matrix, labels)])\r\n",
    "    loss = out.mean()\r\n",
    "    return loss\r\n",
    "    raise NotImplementedError"
   ],
   "outputs": [],
   "metadata": {}
  },
  {
   "cell_type": "code",
   "execution_count": 108,
   "source": [
    "fb = np.stack((fv,fv))\r\n",
    "labels = [-1.0, -1.0]"
   ],
   "outputs": [],
   "metadata": {}
  },
  {
   "cell_type": "code",
   "execution_count": 109,
   "source": [
    "hinge_loss_full(fb, labels, theta, theta_0)"
   ],
   "outputs": [
    {
     "output_type": "execute_result",
     "data": {
      "text/plain": [
       "2.0"
      ]
     },
     "metadata": {},
     "execution_count": 109
    }
   ],
   "metadata": {}
  },
  {
   "cell_type": "code",
   "execution_count": 110,
   "source": [
    "def perceptron_single_step_update(\r\n",
    "        feature_vector,\r\n",
    "        label,\r\n",
    "        current_theta,\r\n",
    "        current_theta_0):\r\n",
    "    \"\"\"\r\n",
    "    Properly updates the classification parameter, theta and theta_0, on a\r\n",
    "    single step of the perceptron algorithm.\r\n",
    "\r\n",
    "    Args:\r\n",
    "        feature_vector - A numpy array describing a single data point.\r\n",
    "        label - The correct classification of the feature vector.\r\n",
    "        current_theta - The current theta being used by the perceptron\r\n",
    "            algorithm before this update.\r\n",
    "        current_theta_0 - The current theta_0 being used by the perceptron\r\n",
    "            algorithm before this update.\r\n",
    "\r\n",
    "    Returns: A tuple where the first element is a numpy array with the value of\r\n",
    "    theta after the current update has completed and the second element is a\r\n",
    "    real valued number with the value of theta_0 after the current updated has\r\n",
    "    completed.\r\n",
    "    \"\"\"\r\n",
    "    # Your code here\r\n",
    "    epsilon = 1e-6\r\n",
    "    x = label*(np.matmul(current_theta.transpose(), feature_vector) + current_theta_0)\r\n",
    "    if abs(x)>epsilon:\r\n",
    "        current_theta = current_theta + label*feature_vector\r\n",
    "        current_theta_0 = current_theta_0 + label            \r\n",
    "    return current_theta, current_theta_0\r\n",
    "    raise NotImplementedError"
   ],
   "outputs": [],
   "metadata": {}
  },
  {
   "cell_type": "code",
   "execution_count": 111,
   "source": [
    "data = {'feature_vector': [-0.10017974 ,-0.40336822, -0.1594446,  -0.26484401, -0.27174761,  0.12395215,\r\n",
    "  0.15144639, -0.25479186,  0.28601179,  0.27694616],\r\n",
    "'label': -1,\r\n",
    "'theta': [ 0.13112945,  0.28012299,  0.36195576, -0.21725298, -0.44001617, -0.20251099,\r\n",
    "  0.47820471,  0.00530194, -0.3212308,   0.003165  ],\r\n",
    "'theta_0': -0.5531564570019423}"
   ],
   "outputs": [],
   "metadata": {}
  },
  {
   "cell_type": "code",
   "execution_count": 117,
   "source": [
    "test = np.zeros((10,2))"
   ],
   "outputs": [],
   "metadata": {}
  },
  {
   "cell_type": "code",
   "execution_count": 118,
   "source": [
    "test.shape[1]"
   ],
   "outputs": [
    {
     "output_type": "execute_result",
     "data": {
      "text/plain": [
       "2"
      ]
     },
     "metadata": {},
     "execution_count": 118
    }
   ],
   "metadata": {}
  },
  {
   "cell_type": "code",
   "execution_count": null,
   "source": [],
   "outputs": [],
   "metadata": {}
  }
 ],
 "metadata": {
  "orig_nbformat": 4,
  "language_info": {
   "name": "python",
   "version": "3.8.8",
   "mimetype": "text/x-python",
   "codemirror_mode": {
    "name": "ipython",
    "version": 3
   },
   "pygments_lexer": "ipython3",
   "nbconvert_exporter": "python",
   "file_extension": ".py"
  },
  "kernelspec": {
   "name": "python3",
   "display_name": "Python 3.8.8 64-bit ('base': conda)"
  },
  "interpreter": {
   "hash": "d589f2a9bcc1d05fcced723415779bf260d0a6488d2d5507869363ddf1d6dda1"
  }
 },
 "nbformat": 4,
 "nbformat_minor": 2
}